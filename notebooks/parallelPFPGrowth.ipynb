{
  "nbformat": 4,
  "nbformat_minor": 0,
  "metadata": {
    "colab": {
      "provenance": [],
      "toc_visible": true,
      "include_colab_link": true
    },
    "kernelspec": {
      "name": "python3",
      "display_name": "Python 3"
    },
    "language_info": {
      "name": "python"
    }
  },
  "cells": [
    {
      "cell_type": "markdown",
      "metadata": {
        "id": "view-in-github",
        "colab_type": "text"
      },
      "source": [
        "<a href=\"https://colab.research.google.com/github/UdayLab/.github/blob/main/notebooks/parallelPFPGrowth.ipynb\" target=\"_parent\"><img src=\"https://colab.research.google.com/assets/colab-badge.svg\" alt=\"Open In Colab\"/></a>"
      ]
    },
    {
      "cell_type": "markdown",
      "source": [
        "# Finding periodic-frequent patterns in big temporal databases using Parallel PFP-growth"
      ],
      "metadata": {
        "id": "Aj6UkFAj3sHh"
      }
    },
    {
      "cell_type": "markdown",
      "source": [
        "This tutorial has two parts. In the first part, we describe the basic approach to find periodic-frequent patterns in a temporal database using the parallel PFP-growth algorithm. In the final part, we describe an advanced approach, where we evaluate the algorithm on a dataset at different *minimum support* threshold values using multiple cores (or worker machines)."
      ],
      "metadata": {
        "id": "X-YPyS6G4AVR"
      }
    },
    {
      "cell_type": "markdown",
      "source": [
        "***"
      ],
      "metadata": {
        "id": "XkW0ZZ276JtD"
      }
    },
    {
      "cell_type": "markdown",
      "source": [
        "## Prerequisites:"
      ],
      "metadata": {
        "id": "H8uDhbi55Use"
      }
    },
    {
      "cell_type": "markdown",
      "source": [
        "1. Installing the PAMI library"
      ],
      "metadata": {
        "id": "z-avjjpTZzbf"
      }
    },
    {
      "cell_type": "code",
      "source": [
        "!pip install 'pami[spark]' #install the pami repository"
      ],
      "metadata": {
        "id": "2PdVic4l3-DQ",
        "outputId": "e14202e1-9eab-408a-9523-1250c83eef97",
        "colab": {
          "base_uri": "https://localhost:8080/"
        }
      },
      "execution_count": 3,
      "outputs": [
        {
          "output_type": "stream",
          "name": "stdout",
          "text": [
            "Collecting pami[spark]\n",
            "  Downloading pami-2023.7.27-py3-none-any.whl (783 kB)\n",
            "\u001b[2K     \u001b[90m━━━━━━━━━━━━━━━━━━━━━━━━━━━━━━━━━━━━━━━\u001b[0m \u001b[32m783.0/783.0 kB\u001b[0m \u001b[31m4.9 MB/s\u001b[0m eta \u001b[36m0:00:00\u001b[0m\n",
            "\u001b[?25hRequirement already satisfied: psutil in /usr/local/lib/python3.10/dist-packages (from pami[spark]) (5.9.5)\n",
            "Requirement already satisfied: pandas in /usr/local/lib/python3.10/dist-packages (from pami[spark]) (1.5.3)\n",
            "Requirement already satisfied: plotly in /usr/local/lib/python3.10/dist-packages (from pami[spark]) (5.13.1)\n",
            "Requirement already satisfied: matplotlib in /usr/local/lib/python3.10/dist-packages (from pami[spark]) (3.7.1)\n",
            "Collecting resource (from pami[spark])\n",
            "  Downloading Resource-0.2.1-py2.py3-none-any.whl (25 kB)\n",
            "Collecting validators (from pami[spark])\n",
            "  Downloading validators-0.20.0.tar.gz (30 kB)\n",
            "  Preparing metadata (setup.py) ... \u001b[?25l\u001b[?25hdone\n",
            "Requirement already satisfied: urllib3 in /usr/local/lib/python3.10/dist-packages (from pami[spark]) (1.26.16)\n",
            "Requirement already satisfied: Pillow in /usr/local/lib/python3.10/dist-packages (from pami[spark]) (9.4.0)\n",
            "Requirement already satisfied: numpy in /usr/local/lib/python3.10/dist-packages (from pami[spark]) (1.22.4)\n",
            "Collecting pyspark (from pami[spark])\n",
            "  Downloading pyspark-3.4.1.tar.gz (310.8 MB)\n",
            "\u001b[2K     \u001b[90m━━━━━━━━━━━━━━━━━━━━━━━━━━━━━━━━━━━━━━━\u001b[0m \u001b[32m310.8/310.8 MB\u001b[0m \u001b[31m4.9 MB/s\u001b[0m eta \u001b[36m0:00:00\u001b[0m\n",
            "\u001b[?25h  Preparing metadata (setup.py) ... \u001b[?25l\u001b[?25hdone\n",
            "Requirement already satisfied: contourpy>=1.0.1 in /usr/local/lib/python3.10/dist-packages (from matplotlib->pami[spark]) (1.1.0)\n",
            "Requirement already satisfied: cycler>=0.10 in /usr/local/lib/python3.10/dist-packages (from matplotlib->pami[spark]) (0.11.0)\n",
            "Requirement already satisfied: fonttools>=4.22.0 in /usr/local/lib/python3.10/dist-packages (from matplotlib->pami[spark]) (4.41.1)\n",
            "Requirement already satisfied: kiwisolver>=1.0.1 in /usr/local/lib/python3.10/dist-packages (from matplotlib->pami[spark]) (1.4.4)\n",
            "Requirement already satisfied: packaging>=20.0 in /usr/local/lib/python3.10/dist-packages (from matplotlib->pami[spark]) (23.1)\n",
            "Requirement already satisfied: pyparsing>=2.3.1 in /usr/local/lib/python3.10/dist-packages (from matplotlib->pami[spark]) (3.1.0)\n",
            "Requirement already satisfied: python-dateutil>=2.7 in /usr/local/lib/python3.10/dist-packages (from matplotlib->pami[spark]) (2.8.2)\n",
            "Requirement already satisfied: pytz>=2020.1 in /usr/local/lib/python3.10/dist-packages (from pandas->pami[spark]) (2022.7.1)\n",
            "Requirement already satisfied: tenacity>=6.2.0 in /usr/local/lib/python3.10/dist-packages (from plotly->pami[spark]) (8.2.2)\n",
            "Requirement already satisfied: py4j==0.10.9.7 in /usr/local/lib/python3.10/dist-packages (from pyspark->pami[spark]) (0.10.9.7)\n",
            "Collecting JsonForm>=0.0.2 (from resource->pami[spark])\n",
            "  Downloading JsonForm-0.0.2.tar.gz (2.4 kB)\n",
            "  Preparing metadata (setup.py) ... \u001b[?25l\u001b[?25hdone\n",
            "Collecting JsonSir>=0.0.2 (from resource->pami[spark])\n",
            "  Downloading JsonSir-0.0.2.tar.gz (2.2 kB)\n",
            "  Preparing metadata (setup.py) ... \u001b[?25l\u001b[?25hdone\n",
            "Collecting python-easyconfig>=0.1.0 (from resource->pami[spark])\n",
            "  Downloading Python_EasyConfig-0.1.7-py2.py3-none-any.whl (5.4 kB)\n",
            "Requirement already satisfied: decorator>=3.4.0 in /usr/local/lib/python3.10/dist-packages (from validators->pami[spark]) (4.4.2)\n",
            "Requirement already satisfied: jsonschema in /usr/local/lib/python3.10/dist-packages (from JsonForm>=0.0.2->resource->pami[spark]) (4.3.3)\n",
            "Requirement already satisfied: six>=1.5 in /usr/local/lib/python3.10/dist-packages (from python-dateutil>=2.7->matplotlib->pami[spark]) (1.16.0)\n",
            "Requirement already satisfied: PyYAML in /usr/local/lib/python3.10/dist-packages (from python-easyconfig>=0.1.0->resource->pami[spark]) (6.0.1)\n",
            "Requirement already satisfied: attrs>=17.4.0 in /usr/local/lib/python3.10/dist-packages (from jsonschema->JsonForm>=0.0.2->resource->pami[spark]) (23.1.0)\n",
            "Requirement already satisfied: pyrsistent!=0.17.0,!=0.17.1,!=0.17.2,>=0.14.0 in /usr/local/lib/python3.10/dist-packages (from jsonschema->JsonForm>=0.0.2->resource->pami[spark]) (0.19.3)\n",
            "Building wheels for collected packages: pyspark, validators, JsonForm, JsonSir\n",
            "  Building wheel for pyspark (setup.py) ... \u001b[?25l\u001b[?25hdone\n",
            "  Created wheel for pyspark: filename=pyspark-3.4.1-py2.py3-none-any.whl size=311285397 sha256=e0cd02b604b5cf2b37b4ae7ee54a622207fae36f5ba4804190616c6f3259099a\n",
            "  Stored in directory: /root/.cache/pip/wheels/0d/77/a3/ff2f74cc9ab41f8f594dabf0579c2a7c6de920d584206e0834\n",
            "  Building wheel for validators (setup.py) ... \u001b[?25l\u001b[?25hdone\n",
            "  Created wheel for validators: filename=validators-0.20.0-py3-none-any.whl size=19580 sha256=f02692864f0120d80e4e67d45ad21ec4c832cd528441808bcb2f997ed422442e\n",
            "  Stored in directory: /root/.cache/pip/wheels/f2/ed/dd/d3a556ad245ef9dc570c6bcd2f22886d17b0b408dd3bbb9ac3\n",
            "  Building wheel for JsonForm (setup.py) ... \u001b[?25l\u001b[?25hdone\n",
            "  Created wheel for JsonForm: filename=JsonForm-0.0.2-py3-none-any.whl size=3310 sha256=f9bbdc51c42f008d7e7958fab522eaab01e8b471ef37911a3768db49342af819\n",
            "  Stored in directory: /root/.cache/pip/wheels/b6/e5/87/11026246d3bd4ad67c0615682d2d6748bbd9a40ac0490882bd\n",
            "  Building wheel for JsonSir (setup.py) ... \u001b[?25l\u001b[?25hdone\n",
            "  Created wheel for JsonSir: filename=JsonSir-0.0.2-py3-none-any.whl size=4750 sha256=8080caaef6aec13bf2bd9a0c0bf2c6089af83325eefbcf827a3a119b82fbe5b0\n",
            "  Stored in directory: /root/.cache/pip/wheels/1d/4c/d3/4d9757425983b43eb709be1043d82cd03fb863ce5f56f117e6\n",
            "Successfully built pyspark validators JsonForm JsonSir\n",
            "Installing collected packages: JsonSir, validators, python-easyconfig, pyspark, JsonForm, resource, pami\n",
            "Successfully installed JsonForm-0.0.2 JsonSir-0.0.2 pami-2023.7.27 pyspark-3.4.1 python-easyconfig-0.1.7 resource-0.2.1 validators-0.20.0\n"
          ]
        }
      ]
    },
    {
      "cell_type": "markdown",
      "source": [
        "2. Downloading a sample dataset"
      ],
      "metadata": {
        "id": "KZMafFx1Z7pn"
      }
    },
    {
      "cell_type": "code",
      "source": [
        "!wget -nc https://u-aizu.ac.jp/~udayrage/datasets/temporalDatabases/Temporal_T10I4D100K.csv #download a sample transactional database"
      ],
      "metadata": {
        "id": "SCtq3Erc5nEo",
        "outputId": "02b147bd-9b3a-4f4f-ae4c-85ac325a19ea",
        "colab": {
          "base_uri": "https://localhost:8080/"
        }
      },
      "execution_count": 1,
      "outputs": [
        {
          "output_type": "stream",
          "name": "stdout",
          "text": [
            "--2023-07-27 13:41:24--  https://u-aizu.ac.jp/~udayrage/datasets/temporalDatabases/Temporal_T10I4D100K.csv\n",
            "Resolving u-aizu.ac.jp (u-aizu.ac.jp)... 150.31.244.160, 150.95.161.176\n",
            "Connecting to u-aizu.ac.jp (u-aizu.ac.jp)|150.31.244.160|:443... connected.\n",
            "HTTP request sent, awaiting response... 200 OK\n",
            "Length: 4606762 (4.4M) [text/csv]\n",
            "Saving to: ‘Temporal_T10I4D100K.csv’\n",
            "\n",
            "Temporal_T10I4D100K 100%[===================>]   4.39M  1.06MB/s    in 6.3s    \n",
            "\n",
            "2023-07-27 13:41:32 (713 KB/s) - ‘Temporal_T10I4D100K.csv’ saved [4606762/4606762]\n",
            "\n"
          ]
        }
      ]
    },
    {
      "cell_type": "markdown",
      "source": [
        "3. Printing few lines of a dataset to know its format."
      ],
      "metadata": {
        "id": "nXgP5F4eaBTW"
      }
    },
    {
      "cell_type": "code",
      "source": [
        "!head -2 Temporal_T10I4D100K.csv"
      ],
      "metadata": {
        "id": "7cHiIW59aS2T",
        "outputId": "f20720f2-d5e1-4333-8e16-e48dc5ddb778",
        "colab": {
          "base_uri": "https://localhost:8080/"
        }
      },
      "execution_count": 2,
      "outputs": [
        {
          "output_type": "stream",
          "name": "stdout",
          "text": [
            "1\t25\t52\t164\t240\t274\t328\t368\t448\t538\t561\t630\t687\t730\t775\t825\t834\r\n",
            "2\t39\t120\t124\t205\t401\t581\t704\t814\t825\t834\r\n"
          ]
        }
      ]
    },
    {
      "cell_type": "markdown",
      "source": [
        "_format:_ every row contains a timestamp followed by a set of items seperated by a seperator.\n",
        "\n",
        "__Example:__\n",
        "\n",
        "timestamp1 item1 item2 item3 item4\n",
        "\n",
        "timestamp2 item1 item4 item6"
      ],
      "metadata": {
        "id": "8HnTnR6MaebG"
      }
    },
    {
      "cell_type": "markdown",
      "source": [
        "***"
      ],
      "metadata": {
        "id": "uJ8Z0ey_6FhV"
      }
    },
    {
      "cell_type": "markdown",
      "source": [
        "## Part 1: Finding periodic-frequent patterns using parallel PFP-growth"
      ],
      "metadata": {
        "id": "pCnHao5L6PRR"
      }
    },
    {
      "cell_type": "markdown",
      "source": [
        "### Step 1: Understanding the statistics of a database to choose an appropriate *minimum support* (*minSup*) value."
      ],
      "metadata": {
        "id": "XzsAMOgb6jjQ"
      }
    },
    {
      "cell_type": "code",
      "source": [
        "#import the class file\n",
        "import PAMI.extras.dbStats.temporalDatabaseStats as stats\n",
        "\n",
        "#specify the file name\n",
        "inputFile = 'Temporal_T10I4D100K.csv'\n",
        "\n",
        "#initialize the class\n",
        "obj=stats.temporalDatabaseStats(inputFile,sep='\\t')\n",
        "\n",
        "#execute the class\n",
        "obj.run()\n",
        "\n",
        "#Printing each of the database statistics\n",
        "print(f'Database size : {obj.getDatabaseSize()}')\n",
        "print(f'Total number of items : {obj.getTotalNumberOfItems()}')\n",
        "print(f'Database sparsity : {obj.getSparsity()}')\n",
        "print(f'Minimum Transaction Size : {obj.getMinimumTransactionLength()}')\n",
        "print(f'Average Transaction Size : {obj.getAverageTransactionLength()}')\n",
        "print(f'Maximum Transaction Size : {obj.getMaximumTransactionLength()}')\n",
        "print(f'Standard Deviation Transaction Size : {obj.getStandardDeviationTransactionLength()}')\n",
        "print(f'Variance in Transaction Sizes : {obj. getVarianceTransactionLength()}')\n",
        "print(f'Minimum period : {obj.getMinimumPeriod()}')\n",
        "print(f'Average period : {obj.getAveragePeriod()}')\n",
        "print(f'Maximum period : {obj.getMaximumPeriod()}')\n",
        "\n",
        "itemFrequencies = obj.getSortedListOfItemFrequencies()\n",
        "transactionLength = obj.getTransanctionalLengthDistribution()\n",
        "numberOfTransactionPerTimeStamp = obj.getNumberOfTransactionsPerTimestamp()\n",
        "obj.save(itemFrequencies,'itemFrequency.csv')\n",
        "obj.save(transactionLength, 'transactionSize.csv')\n",
        "obj.save(numberOfTransactionPerTimeStamp, 'numberOfTransaction.csv')\n",
        "\n",
        "#Alternative apporach to derive the database statistics and plot the graphs\n",
        "# obj.printStats()\n",
        "# obj.plotGraphs()"
      ],
      "metadata": {
        "id": "3isxz2qx54te",
        "outputId": "ff63987d-cb35-499e-f8b7-ec1ae18fb068",
        "colab": {
          "base_uri": "https://localhost:8080/"
        }
      },
      "execution_count": 4,
      "outputs": [
        {
          "output_type": "stream",
          "name": "stdout",
          "text": [
            "Database size : 99913\n",
            "Total number of items : 870\n",
            "Database sparsity : 0.9883887027691103\n",
            "Minimum Transaction Size : 1\n",
            "Average Transaction Size : 10.10182859087406\n",
            "Maximum Transaction Size : 29\n",
            "Standard Deviation Transaction Size : 3.667115963877195\n",
            "Variance in Transaction Sizes : 13.447874088362232\n",
            "Minimum period : 1\n",
            "Average period : 1.0\n",
            "Maximum period : 1\n"
          ]
        }
      ]
    },
    {
      "cell_type": "markdown",
      "source": [
        "### Step 2: Draw the items' frequency graph and transaction length's distribution graphs for more information"
      ],
      "metadata": {
        "id": "CnoHNwAC-kJQ"
      }
    },
    {
      "cell_type": "code",
      "source": [
        "import PAMI.extras.graph.plotLineGraphFromDictionary as plt\n",
        "\n",
        "itemFrequencies = obj.getFrequenciesInRange()\n",
        "transactionLength = obj.getTransanctionalLengthDistribution()\n",
        "plt.plotLineGraphFromDictionary(itemFrequencies, 100, 'Items\\' frequency graph', 'No of items', 'frequency')\n",
        "plt.plotLineGraphFromDictionary(transactionLength, 100, 'transaction distribution graph', 'transaction length', 'frequency')"
      ],
      "metadata": {
        "id": "xwZmfh4H7XSR",
        "outputId": "e9738935-4692-4ce3-bf69-8781528f5e10",
        "colab": {
          "base_uri": "https://localhost:8080/",
          "height": 945
        }
      },
      "execution_count": null,
      "outputs": [
        {
          "output_type": "display_data",
          "data": {
            "text/plain": [
              "<Figure size 640x480 with 1 Axes>"
            ],
            "image/png": "[encoded data removed]"
          },
          "metadata": {}
        },
        {
          "output_type": "display_data",
          "data": {
            "text/plain": [
              "<Figure size 640x480 with 1 Axes>"
            ],
            "image/png": "[encoded data removed]"
          },
          "metadata": {}
        },
        {
          "output_type": "execute_result",
          "data": {
            "text/plain": [
              "<PAMI.extras.graph.plotLineGraphFromDictionary.plotLineGraphFromDictionary at 0x7c27111a86d0>"
            ]
          },
          "metadata": {},
          "execution_count": 6
        }
      ]
    },
    {
      "cell_type": "markdown",
      "source": [
        "### Step 3: Choosing an appropriate *minSup* value\n",
        "\n",
        "_Observations_\n",
        "\n",
        "  1. The input dataset is sparse as the sparsity value is 0.988 (=98.8%)\n",
        "  2. Many items have low frequencies as seen in the items' frequency graph\n",
        "  3. The dataset is not high dimensional as the inverted curve is around 10.\n",
        "\n",
        "  Based on the above observations, let us choose a _minSup_ value of 300 (in count). We can increase or decrease the _minSup_ based on the number of patterns being generated."
      ],
      "metadata": {
        "id": "BtnhlIfLAEHR"
      }
    },
    {
      "cell_type": "code",
      "source": [
        "minSup=300 #minSup is specified in count. However, the users can also specify minSup between 0 and 1."
      ],
      "metadata": {
        "id": "MHGkrW5e-zYR"
      },
      "execution_count": null,
      "outputs": []
    },
    {
      "cell_type": "markdown",
      "source": [
        "### Step 4: Choosing the number of worker machines\n",
        "\n",
        "Let us choose the number of worker machines equal to 2"
      ],
      "metadata": {
        "id": "IJOBcmTm3zKO"
      }
    },
    {
      "cell_type": "code",
      "source": [
        "noWorkerMachines=5"
      ],
      "metadata": {
        "id": "LjnMgn3S3-bE"
      },
      "execution_count": null,
      "outputs": []
    },
    {
      "cell_type": "markdown",
      "source": [
        "### Step 5: Mining frequent patterns using parallel FP-growth"
      ],
      "metadata": {
        "id": "PlLmo9ZXDJkX"
      }
    },
    {
      "cell_type": "code",
      "source": [
        "from PAMI.frequentPattern.pyspark import parallelFPGrowth as alg #import the algorithm\n",
        "\n",
        "obj = alg.parallelFPGrowth(iFile=inputFile, minSup=minSup, numWorkers=noWorkerMachines, sep='\\t')    #initialize\n",
        "obj.startMine()            #start the mining process\n",
        "\n",
        "obj.save('frequentPatternsAtMinSupCount300.txt') #save the patterns\n",
        "\n",
        "\n",
        "frequentPatternsDF= obj.getPatternsAsDataFrame() #get the generated frequent patterns as a dataframe\n",
        "print('Total No of patterns: ' + str(len(frequentPatternsDF))) #print the total number of patterns\n",
        "print('Runtime: ' + str(obj.getRuntime())) #measure the runtime\n",
        "\n",
        "print('Memory (RSS): ' + str(obj.getMemoryRSS()))\n",
        "print('Memory (USS): ' + str(obj.getMemoryUSS()))"
      ],
      "metadata": {
        "id": "pLV84IYcDHe3",
        "outputId": "d293e690-f4b3-494f-c643-2f82b9bca8bb",
        "colab": {
          "base_uri": "https://localhost:8080/"
        }
      },
      "execution_count": null,
      "outputs": [
        {
          "output_type": "stream",
          "name": "stdout",
          "text": [
            "Frequent patterns were generated successfully using Parallel FPGrowth algorithm\n",
            "Total No of patterns: 4540\n",
            "Runtime: 40.39675760269165\n",
            "Memory (RSS): 171253760\n",
            "Memory (USS): 123527168\n"
          ]
        }
      ]
    },
    {
      "cell_type": "markdown",
      "source": [
        "### Step 6: Investigating the generated patterns\n",
        "\n",
        "Open the patterns' file and investigate the generated patterns. If the generated patterns were interesting, use them; otherwise, redo the Steps 3 and 4 with a different _minSup_ value."
      ],
      "metadata": {
        "id": "wE3A15V3FHjO"
      }
    },
    {
      "cell_type": "code",
      "source": [
        "!head frequentPatternsAtMinSupCount300.txt"
      ],
      "metadata": {
        "id": "nZ6dfQshDc9E",
        "outputId": "6d943a06-1d60-49b9-fc3e-7d5713822056",
        "colab": {
          "base_uri": "https://localhost:8080/"
        }
      },
      "execution_count": null,
      "outputs": [
        {
          "output_type": "stream",
          "name": "stdout",
          "text": [
            "368:7821 \n",
            "529:7053 \n",
            "829:6802 \n",
            "766:6259 \n",
            "722:5839 \n",
            "354:5830 \n",
            "684:5404 \n",
            "217:5369 \n",
            "494:5097 \n",
            "419:5051 \n"
          ]
        }
      ]
    },
    {
      "cell_type": "markdown",
      "source": [
        "The storage format is: _frequentPattern:support_\n",
        "\n"
      ],
      "metadata": {
        "id": "OSrlE5hwGEnH"
      }
    },
    {
      "cell_type": "markdown",
      "source": [
        "***"
      ],
      "metadata": {
        "id": "HcaEFLGCHBjP"
      }
    },
    {
      "cell_type": "markdown",
      "source": [
        "## Part 2: Evaluating the FP-growth algorithm on a dataset at different minSup values and worker machines"
      ],
      "metadata": {
        "id": "FUO1nBPoHXJN"
      }
    },
    {
      "cell_type": "markdown",
      "source": [
        "### Step 1: Import the libraries and specify the input parameters"
      ],
      "metadata": {
        "id": "g90LiLg1Hzb-"
      }
    },
    {
      "cell_type": "code",
      "source": [
        "#Import the libraries\n",
        "from PAMI.frequentPattern.basic import FPGrowth  as alg #import the algorithm\n",
        "import pandas as pd\n",
        "\n",
        "#Specify the input parameters\n",
        "inputFile = 'Transactional_T10I4D100K.csv'\n",
        "seperator='\\t'\n",
        "minimumSupportCountList = [100, 150, 200, 250, 300]\n",
        "#minimumSupport can also specified between 0 to 1. E.g., minSupList = [0.005, 0.006, 0.007, 0.008, 0.009]\n",
        "\n",
        "numWorkers = [1,2, 3, 4, 5, 6, 7, 8, 9, 10]"
      ],
      "metadata": {
        "id": "FfYBLxBPG5n_"
      },
      "execution_count": null,
      "outputs": []
    },
    {
      "cell_type": "markdown",
      "source": [
        "### Step 2: Create a data frame to store the results of FP-growth"
      ],
      "metadata": {
        "id": "2lvGcqTKJDee"
      }
    },
    {
      "cell_type": "code",
      "source": [
        "result = pd.DataFrame(columns=['#workerMachines', 'minSup', 'patterns', 'runtime', 'memory'])\n",
        "#initialize a data frame to store the results of FPGrowth algorithm"
      ],
      "metadata": {
        "id": "9Hl47i3ZICpp"
      },
      "execution_count": null,
      "outputs": []
    },
    {
      "cell_type": "markdown",
      "source": [
        "### Step 3: Execute the algorithm at different minSup values"
      ],
      "metadata": {
        "id": "Hah3RHNNJf0f"
      }
    },
    {
      "cell_type": "code",
      "source": [
        "from PAMI.frequentPattern.pyspark import parallelFPGrowth as alg\n",
        "\n",
        "for minSupCount in minimumSupportCountList:\n",
        "  for workers in numWorkers:\n",
        "    obj = alg.parallelFPGrowth(iFile=inputFile, minSup=minSup, numWorkers=workers, sep='\\t')    #initialize\n",
        "    obj.startMine()            #start the mining process\n",
        "    result.loc[result.shape[0]] = [workers, minSupCount, len(obj.getPatterns()),obj.getRuntime(), obj.getMemoryRSS()]"
      ],
      "metadata": {
        "id": "9ivJHoSEJlky",
        "outputId": "a9ba9aa6-5154-45f2-a95a-fd3b20a4414e",
        "colab": {
          "base_uri": "https://localhost:8080/"
        }
      },
      "execution_count": null,
      "outputs": [
        {
          "output_type": "stream",
          "name": "stdout",
          "text": [
            "Frequent patterns were generated successfully using Parallel FPGrowth algorithm\n",
            "Frequent patterns were generated successfully using Parallel FPGrowth algorithm\n",
            "Frequent patterns were generated successfully using Parallel FPGrowth algorithm\n",
            "Frequent patterns were generated successfully using Parallel FPGrowth algorithm\n",
            "Frequent patterns were generated successfully using Parallel FPGrowth algorithm\n",
            "Frequent patterns were generated successfully using Parallel FPGrowth algorithm\n",
            "Frequent patterns were generated successfully using Parallel FPGrowth algorithm\n",
            "Frequent patterns were generated successfully using Parallel FPGrowth algorithm\n",
            "Frequent patterns were generated successfully using Parallel FPGrowth algorithm\n",
            "Frequent patterns were generated successfully using Parallel FPGrowth algorithm\n",
            "Frequent patterns were generated successfully using Parallel FPGrowth algorithm\n",
            "Frequent patterns were generated successfully using Parallel FPGrowth algorithm\n",
            "Frequent patterns were generated successfully using Parallel FPGrowth algorithm\n",
            "Frequent patterns were generated successfully using Parallel FPGrowth algorithm\n",
            "Frequent patterns were generated successfully using Parallel FPGrowth algorithm\n",
            "Frequent patterns were generated successfully using Parallel FPGrowth algorithm\n",
            "Frequent patterns were generated successfully using Parallel FPGrowth algorithm\n",
            "Frequent patterns were generated successfully using Parallel FPGrowth algorithm\n",
            "Frequent patterns were generated successfully using Parallel FPGrowth algorithm\n",
            "Frequent patterns were generated successfully using Parallel FPGrowth algorithm\n",
            "Frequent patterns were generated successfully using Parallel FPGrowth algorithm\n",
            "Frequent patterns were generated successfully using Parallel FPGrowth algorithm\n",
            "Frequent patterns were generated successfully using Parallel FPGrowth algorithm\n",
            "Frequent patterns were generated successfully using Parallel FPGrowth algorithm\n",
            "Frequent patterns were generated successfully using Parallel FPGrowth algorithm\n",
            "Frequent patterns were generated successfully using Parallel FPGrowth algorithm\n",
            "Frequent patterns were generated successfully using Parallel FPGrowth algorithm\n",
            "Frequent patterns were generated successfully using Parallel FPGrowth algorithm\n",
            "Frequent patterns were generated successfully using Parallel FPGrowth algorithm\n",
            "Frequent patterns were generated successfully using Parallel FPGrowth algorithm\n",
            "Frequent patterns were generated successfully using Parallel FPGrowth algorithm\n",
            "Frequent patterns were generated successfully using Parallel FPGrowth algorithm\n",
            "Frequent patterns were generated successfully using Parallel FPGrowth algorithm\n",
            "Frequent patterns were generated successfully using Parallel FPGrowth algorithm\n",
            "Frequent patterns were generated successfully using Parallel FPGrowth algorithm\n",
            "Frequent patterns were generated successfully using Parallel FPGrowth algorithm\n",
            "Frequent patterns were generated successfully using Parallel FPGrowth algorithm\n",
            "Frequent patterns were generated successfully using Parallel FPGrowth algorithm\n",
            "Frequent patterns were generated successfully using Parallel FPGrowth algorithm\n",
            "Frequent patterns were generated successfully using Parallel FPGrowth algorithm\n",
            "Frequent patterns were generated successfully using Parallel FPGrowth algorithm\n",
            "Frequent patterns were generated successfully using Parallel FPGrowth algorithm\n",
            "Frequent patterns were generated successfully using Parallel FPGrowth algorithm\n",
            "Frequent patterns were generated successfully using Parallel FPGrowth algorithm\n",
            "Frequent patterns were generated successfully using Parallel FPGrowth algorithm\n",
            "Frequent patterns were generated successfully using Parallel FPGrowth algorithm\n",
            "Frequent patterns were generated successfully using Parallel FPGrowth algorithm\n",
            "Frequent patterns were generated successfully using Parallel FPGrowth algorithm\n",
            "Frequent patterns were generated successfully using Parallel FPGrowth algorithm\n",
            "Frequent patterns were generated successfully using Parallel FPGrowth algorithm\n"
          ]
        }
      ]
    },
    {
      "cell_type": "markdown",
      "source": [
        "### Step 4: Print the result"
      ],
      "metadata": {
        "id": "qs3jpnTBJSd6"
      }
    },
    {
      "cell_type": "code",
      "source": [
        "print(result)"
      ],
      "metadata": {
        "id": "MReBFwDFJ_3x",
        "outputId": "37403919-9d28-473b-9dea-549113744cbc",
        "colab": {
          "base_uri": "https://localhost:8080/"
        }
      },
      "execution_count": null,
      "outputs": [
        {
          "output_type": "stream",
          "name": "stdout",
          "text": [
            "    #workerMachines  minSup  patterns    runtime       memory\n",
            "0               1.0   100.0    4540.0  24.150808  172367872.0\n",
            "1               2.0   100.0    4540.0  23.102421  172830720.0\n",
            "2               3.0   100.0    4540.0  26.334140  173113344.0\n",
            "3               4.0   100.0    4540.0  26.972822  173113344.0\n",
            "4               5.0   100.0    4540.0  29.442641  173244416.0\n",
            "5               6.0   100.0    4540.0  29.658798  173244416.0\n",
            "6               7.0   100.0    4540.0  32.552161  173244416.0\n",
            "7               8.0   100.0    4540.0  31.103544  173244416.0\n",
            "8               9.0   100.0    4540.0  34.204337  173244416.0\n",
            "9              10.0   100.0    4540.0  35.184973  173244416.0\n",
            "10              1.0   150.0    4540.0  25.804278  173244416.0\n",
            "11              2.0   150.0    4540.0  23.459938  173260800.0\n",
            "12              3.0   150.0    4540.0  27.136907  173260800.0\n",
            "13              4.0   150.0    4540.0  28.673605  173260800.0\n",
            "14              5.0   150.0    4540.0  30.165358  173260800.0\n",
            "15              6.0   150.0    4540.0  31.809359  173260800.0\n",
            "16              7.0   150.0    4540.0  32.328052  173260800.0\n",
            "17              8.0   150.0    4540.0  33.451105  173268992.0\n",
            "18              9.0   150.0    4540.0  36.263302  173268992.0\n",
            "19             10.0   150.0    4540.0  35.993802  173268992.0\n",
            "20              1.0   200.0    4540.0  25.163912  173268992.0\n",
            "21              2.0   200.0    4540.0  23.563942  173273088.0\n",
            "22              3.0   200.0    4540.0  27.010456  173273088.0\n",
            "23              4.0   200.0    4540.0  28.308409  173273088.0\n",
            "24              5.0   200.0    4540.0  30.158115  173273088.0\n",
            "25              6.0   200.0    4540.0  31.538662  173273088.0\n",
            "26              7.0   200.0    4540.0  33.148525  173408256.0\n",
            "27              8.0   200.0    4540.0  32.447238  173412352.0\n",
            "28              9.0   200.0    4540.0  35.874719  173412352.0\n",
            "29             10.0   200.0    4540.0  38.964042  173412352.0\n",
            "30              1.0   250.0    4540.0  25.996745  173412352.0\n",
            "31              2.0   250.0    4540.0  22.719007  173412352.0\n",
            "32              3.0   250.0    4540.0  28.870166  173412352.0\n",
            "33              4.0   250.0    4540.0  27.191148  173412352.0\n",
            "34              5.0   250.0    4540.0  31.411193  173412352.0\n",
            "35              6.0   250.0    4540.0  30.377650  173412352.0\n",
            "36              7.0   250.0    4540.0  34.229608  173412352.0\n",
            "37              8.0   250.0    4540.0  33.791492  173412352.0\n",
            "38              9.0   250.0    4540.0  36.284680  173412352.0\n",
            "39             10.0   250.0    4540.0  37.645125  173412352.0\n",
            "40              1.0   300.0    4540.0  25.090627  173412352.0\n",
            "41              2.0   300.0    4540.0  23.309465  173412352.0\n",
            "42              3.0   300.0    4540.0  27.019895  173412352.0\n",
            "43              4.0   300.0    4540.0  27.122634  173412352.0\n",
            "44              5.0   300.0    4540.0  30.922197  173412352.0\n",
            "45              6.0   300.0    4540.0  30.102363  173412352.0\n",
            "46              7.0   300.0    4540.0  32.278533  173412352.0\n",
            "47              8.0   300.0    4540.0  33.268976  173412352.0\n",
            "48              9.0   300.0    4540.0  35.727603  173412352.0\n",
            "49             10.0   300.0    4540.0  38.852988  173412352.0\n"
          ]
        }
      ]
    },
    {
      "cell_type": "markdown",
      "source": [
        "### Step 5: Visualizing the results"
      ],
      "metadata": {
        "id": "6ELjr0iPKDSY"
      }
    },
    {
      "cell_type": "code",
      "source": [
        "result.plot(x='minSup',y='runtime')"
      ],
      "metadata": {
        "id": "mGET50RTasLT",
        "outputId": "a43a8793-b1a5-4dd4-b151-32b891c33ec0",
        "colab": {
          "base_uri": "https://localhost:8080/",
          "height": 467
        }
      },
      "execution_count": null,
      "outputs": [
        {
          "output_type": "execute_result",
          "data": {
            "text/plain": [
              "<Axes: xlabel='minSup'>"
            ]
          },
          "metadata": {},
          "execution_count": 17
        },
        {
          "output_type": "display_data",
          "data": {
            "text/plain": [
              "<Figure size 640x480 with 1 Axes>"
            ],
            "image/png": "[encoded data removed]"
          },
          "metadata": {}
        }
      ]
    },
    {
      "cell_type": "code",
      "source": [
        "from PAMI.extras.graph import dataFrameInToFigures as dif\n",
        "ab = dif.dataFrameInToFigures(result)\n",
        "ab.plotGraphsFromDataFrame()"
      ],
      "metadata": {
        "id": "DvTQdsGLKJIU",
        "outputId": "429eaf9e-c695-4a82-8c36-23ee21a77dc4",
        "colab": {
          "base_uri": "https://localhost:8080/",
          "height": 389
        }
      },
      "execution_count": null,
      "outputs": [
        {
          "output_type": "error",
          "ename": "ValueError",
          "evalue": "ignored",
          "traceback": [
            "\u001b[0;31m---------------------------------------------------------------------------\u001b[0m",
            "\u001b[0;31mValueError\u001b[0m                                Traceback (most recent call last)",
            "\u001b[0;32m<ipython-input-15-f9d6939dadb4>\u001b[0m in \u001b[0;36m<cell line: 3>\u001b[0;34m()\u001b[0m\n\u001b[1;32m      1\u001b[0m \u001b[0;32mfrom\u001b[0m \u001b[0mPAMI\u001b[0m\u001b[0;34m.\u001b[0m\u001b[0mextras\u001b[0m\u001b[0;34m.\u001b[0m\u001b[0mgraph\u001b[0m \u001b[0;32mimport\u001b[0m \u001b[0mdataFrameInToFigures\u001b[0m \u001b[0;32mas\u001b[0m \u001b[0mdif\u001b[0m\u001b[0;34m\u001b[0m\u001b[0;34m\u001b[0m\u001b[0m\n\u001b[1;32m      2\u001b[0m \u001b[0mab\u001b[0m \u001b[0;34m=\u001b[0m \u001b[0mdif\u001b[0m\u001b[0;34m.\u001b[0m\u001b[0mdataFrameInToFigures\u001b[0m\u001b[0;34m(\u001b[0m\u001b[0mresult\u001b[0m\u001b[0;34m)\u001b[0m\u001b[0;34m\u001b[0m\u001b[0;34m\u001b[0m\u001b[0m\n\u001b[0;32m----> 3\u001b[0;31m \u001b[0mab\u001b[0m\u001b[0;34m.\u001b[0m\u001b[0mplotGraphsFromDataFrame\u001b[0m\u001b[0;34m(\u001b[0m\u001b[0;34m)\u001b[0m\u001b[0;34m\u001b[0m\u001b[0;34m\u001b[0m\u001b[0m\n\u001b[0m",
            "\u001b[0;32m/usr/local/lib/python3.10/dist-packages/PAMI/extras/graph/dataFrameInToFigures.py\u001b[0m in \u001b[0;36mplotGraphsFromDataFrame\u001b[0;34m(self)\u001b[0m\n\u001b[1;32m      9\u001b[0m \u001b[0;34m\u001b[0m\u001b[0m\n\u001b[1;32m     10\u001b[0m     \u001b[0;32mdef\u001b[0m \u001b[0mplotGraphsFromDataFrame\u001b[0m\u001b[0;34m(\u001b[0m\u001b[0mself\u001b[0m\u001b[0;34m)\u001b[0m\u001b[0;34m:\u001b[0m\u001b[0;34m\u001b[0m\u001b[0;34m\u001b[0m\u001b[0m\n\u001b[0;32m---> 11\u001b[0;31m         \u001b[0mfig\u001b[0m \u001b[0;34m=\u001b[0m \u001b[0m_px\u001b[0m\u001b[0;34m.\u001b[0m\u001b[0mline\u001b[0m\u001b[0;34m(\u001b[0m\u001b[0mself\u001b[0m\u001b[0;34m.\u001b[0m\u001b[0m_dataFrame\u001b[0m\u001b[0;34m,\u001b[0m \u001b[0mx\u001b[0m\u001b[0;34m=\u001b[0m\u001b[0;34m'minSup'\u001b[0m\u001b[0;34m,\u001b[0m \u001b[0my\u001b[0m\u001b[0;34m=\u001b[0m\u001b[0;34m'patterns'\u001b[0m\u001b[0;34m,\u001b[0m \u001b[0mcolor\u001b[0m\u001b[0;34m=\u001b[0m\u001b[0;34m'algorithm'\u001b[0m\u001b[0;34m)\u001b[0m\u001b[0;34m\u001b[0m\u001b[0;34m\u001b[0m\u001b[0m\n\u001b[0m\u001b[1;32m     12\u001b[0m         \u001b[0mfig\u001b[0m\u001b[0;34m.\u001b[0m\u001b[0mshow\u001b[0m\u001b[0;34m(\u001b[0m\u001b[0;34m)\u001b[0m\u001b[0;34m\u001b[0m\u001b[0;34m\u001b[0m\u001b[0m\n\u001b[1;32m     13\u001b[0m         \u001b[0mfig\u001b[0m \u001b[0;34m=\u001b[0m \u001b[0m_px\u001b[0m\u001b[0;34m.\u001b[0m\u001b[0mline\u001b[0m\u001b[0;34m(\u001b[0m\u001b[0mself\u001b[0m\u001b[0;34m.\u001b[0m\u001b[0m_dataFrame\u001b[0m\u001b[0;34m,\u001b[0m \u001b[0mx\u001b[0m\u001b[0;34m=\u001b[0m\u001b[0;34m'minSup'\u001b[0m\u001b[0;34m,\u001b[0m \u001b[0my\u001b[0m\u001b[0;34m=\u001b[0m\u001b[0;34m'runtime'\u001b[0m\u001b[0;34m,\u001b[0m \u001b[0mcolor\u001b[0m\u001b[0;34m=\u001b[0m\u001b[0;34m'algorithm'\u001b[0m\u001b[0;34m)\u001b[0m\u001b[0;34m\u001b[0m\u001b[0;34m\u001b[0m\u001b[0m\n",
            "\u001b[0;32m/usr/local/lib/python3.10/dist-packages/plotly/express/_chart_types.py\u001b[0m in \u001b[0;36mline\u001b[0;34m(data_frame, x, y, line_group, color, line_dash, symbol, hover_name, hover_data, custom_data, text, facet_row, facet_col, facet_col_wrap, facet_row_spacing, facet_col_spacing, error_x, error_x_minus, error_y, error_y_minus, animation_frame, animation_group, category_orders, labels, orientation, color_discrete_sequence, color_discrete_map, line_dash_sequence, line_dash_map, symbol_sequence, symbol_map, markers, log_x, log_y, range_x, range_y, line_shape, render_mode, title, template, width, height)\u001b[0m\n\u001b[1;32m    262\u001b[0m     \u001b[0ma\u001b[0m \u001b[0mpolyline\u001b[0m \u001b[0mmark\u001b[0m \u001b[0;32min\u001b[0m \u001b[0;36m2\u001b[0m\u001b[0mD\u001b[0m \u001b[0mspace\u001b[0m\u001b[0;34m.\u001b[0m\u001b[0;34m\u001b[0m\u001b[0;34m\u001b[0m\u001b[0m\n\u001b[1;32m    263\u001b[0m     \"\"\"\n\u001b[0;32m--> 264\u001b[0;31m     \u001b[0;32mreturn\u001b[0m \u001b[0mmake_figure\u001b[0m\u001b[0;34m(\u001b[0m\u001b[0margs\u001b[0m\u001b[0;34m=\u001b[0m\u001b[0mlocals\u001b[0m\u001b[0;34m(\u001b[0m\u001b[0;34m)\u001b[0m\u001b[0;34m,\u001b[0m \u001b[0mconstructor\u001b[0m\u001b[0;34m=\u001b[0m\u001b[0mgo\u001b[0m\u001b[0;34m.\u001b[0m\u001b[0mScatter\u001b[0m\u001b[0;34m)\u001b[0m\u001b[0;34m\u001b[0m\u001b[0;34m\u001b[0m\u001b[0m\n\u001b[0m\u001b[1;32m    265\u001b[0m \u001b[0;34m\u001b[0m\u001b[0m\n\u001b[1;32m    266\u001b[0m \u001b[0;34m\u001b[0m\u001b[0m\n",
            "\u001b[0;32m/usr/local/lib/python3.10/dist-packages/plotly/express/_core.py\u001b[0m in \u001b[0;36mmake_figure\u001b[0;34m(args, constructor, trace_patch, layout_patch)\u001b[0m\n\u001b[1;32m   1989\u001b[0m     \u001b[0mapply_default_cascade\u001b[0m\u001b[0;34m(\u001b[0m\u001b[0margs\u001b[0m\u001b[0;34m)\u001b[0m\u001b[0;34m\u001b[0m\u001b[0;34m\u001b[0m\u001b[0m\n\u001b[1;32m   1990\u001b[0m \u001b[0;34m\u001b[0m\u001b[0m\n\u001b[0;32m-> 1991\u001b[0;31m     \u001b[0margs\u001b[0m \u001b[0;34m=\u001b[0m \u001b[0mbuild_dataframe\u001b[0m\u001b[0;34m(\u001b[0m\u001b[0margs\u001b[0m\u001b[0;34m,\u001b[0m \u001b[0mconstructor\u001b[0m\u001b[0;34m)\u001b[0m\u001b[0;34m\u001b[0m\u001b[0;34m\u001b[0m\u001b[0m\n\u001b[0m\u001b[1;32m   1992\u001b[0m     \u001b[0;32mif\u001b[0m \u001b[0mconstructor\u001b[0m \u001b[0;32min\u001b[0m \u001b[0;34m[\u001b[0m\u001b[0mgo\u001b[0m\u001b[0;34m.\u001b[0m\u001b[0mTreemap\u001b[0m\u001b[0;34m,\u001b[0m \u001b[0mgo\u001b[0m\u001b[0;34m.\u001b[0m\u001b[0mSunburst\u001b[0m\u001b[0;34m,\u001b[0m \u001b[0mgo\u001b[0m\u001b[0;34m.\u001b[0m\u001b[0mIcicle\u001b[0m\u001b[0;34m]\u001b[0m \u001b[0;32mand\u001b[0m \u001b[0margs\u001b[0m\u001b[0;34m[\u001b[0m\u001b[0;34m\"path\"\u001b[0m\u001b[0;34m]\u001b[0m \u001b[0;32mis\u001b[0m \u001b[0;32mnot\u001b[0m \u001b[0;32mNone\u001b[0m\u001b[0;34m:\u001b[0m\u001b[0;34m\u001b[0m\u001b[0;34m\u001b[0m\u001b[0m\n\u001b[1;32m   1993\u001b[0m         \u001b[0margs\u001b[0m \u001b[0;34m=\u001b[0m \u001b[0mprocess_dataframe_hierarchy\u001b[0m\u001b[0;34m(\u001b[0m\u001b[0margs\u001b[0m\u001b[0;34m)\u001b[0m\u001b[0;34m\u001b[0m\u001b[0;34m\u001b[0m\u001b[0m\n",
            "\u001b[0;32m/usr/local/lib/python3.10/dist-packages/plotly/express/_core.py\u001b[0m in \u001b[0;36mbuild_dataframe\u001b[0;34m(args, constructor)\u001b[0m\n\u001b[1;32m   1404\u001b[0m     \u001b[0;31m# now that things have been prepped, we do the systematic rewriting of `args`\u001b[0m\u001b[0;34m\u001b[0m\u001b[0;34m\u001b[0m\u001b[0m\n\u001b[1;32m   1405\u001b[0m \u001b[0;34m\u001b[0m\u001b[0m\n\u001b[0;32m-> 1406\u001b[0;31m     df_output, wide_id_vars = process_args_into_dataframe(\n\u001b[0m\u001b[1;32m   1407\u001b[0m         \u001b[0margs\u001b[0m\u001b[0;34m,\u001b[0m \u001b[0mwide_mode\u001b[0m\u001b[0;34m,\u001b[0m \u001b[0mvar_name\u001b[0m\u001b[0;34m,\u001b[0m \u001b[0mvalue_name\u001b[0m\u001b[0;34m\u001b[0m\u001b[0;34m\u001b[0m\u001b[0m\n\u001b[1;32m   1408\u001b[0m     )\n",
            "\u001b[0;32m/usr/local/lib/python3.10/dist-packages/plotly/express/_core.py\u001b[0m in \u001b[0;36mprocess_args_into_dataframe\u001b[0;34m(args, wide_mode, var_name, value_name)\u001b[0m\n\u001b[1;32m   1206\u001b[0m                         \u001b[0;32mif\u001b[0m \u001b[0margument\u001b[0m \u001b[0;34m==\u001b[0m \u001b[0;34m\"index\"\u001b[0m\u001b[0;34m:\u001b[0m\u001b[0;34m\u001b[0m\u001b[0;34m\u001b[0m\u001b[0m\n\u001b[1;32m   1207\u001b[0m                             \u001b[0merr_msg\u001b[0m \u001b[0;34m+=\u001b[0m \u001b[0;34m\"\\n To use the index, pass it in directly as `df.index`.\"\u001b[0m\u001b[0;34m\u001b[0m\u001b[0;34m\u001b[0m\u001b[0m\n\u001b[0;32m-> 1208\u001b[0;31m                         \u001b[0;32mraise\u001b[0m \u001b[0mValueError\u001b[0m\u001b[0;34m(\u001b[0m\u001b[0merr_msg\u001b[0m\u001b[0;34m)\u001b[0m\u001b[0;34m\u001b[0m\u001b[0;34m\u001b[0m\u001b[0m\n\u001b[0m\u001b[1;32m   1209\u001b[0m                 \u001b[0;32melif\u001b[0m \u001b[0mlength\u001b[0m \u001b[0;32mand\u001b[0m \u001b[0mlen\u001b[0m\u001b[0;34m(\u001b[0m\u001b[0mdf_input\u001b[0m\u001b[0;34m[\u001b[0m\u001b[0margument\u001b[0m\u001b[0;34m]\u001b[0m\u001b[0;34m)\u001b[0m \u001b[0;34m!=\u001b[0m \u001b[0mlength\u001b[0m\u001b[0;34m:\u001b[0m\u001b[0;34m\u001b[0m\u001b[0;34m\u001b[0m\u001b[0m\n\u001b[1;32m   1210\u001b[0m                     raise ValueError(\n",
            "\u001b[0;31mValueError\u001b[0m: Value of 'color' is not the name of a column in 'data_frame'. Expected one of ['#workerMachines', 'minSup', 'patterns', 'runtime', 'memory'] but received: algorithm"
          ]
        }
      ]
    }
  ]
}